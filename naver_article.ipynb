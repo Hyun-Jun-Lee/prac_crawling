{
  "nbformat": 4,
  "nbformat_minor": 0,
  "metadata": {
    "colab": {
      "name": "naver_article.ipynb",
      "provenance": [],
      "authorship_tag": "ABX9TyOmufPduYlnziXjaoTBWNhS",
      "include_colab_link": true
    },
    "kernelspec": {
      "name": "python3",
      "display_name": "Python 3"
    },
    "language_info": {
      "name": "python"
    }
  },
  "cells": [
    {
      "cell_type": "markdown",
      "metadata": {
        "id": "view-in-github",
        "colab_type": "text"
      },
      "source": [
        "<a href=\"https://colab.research.google.com/github/Hyun-Jun-Lee/prac_crawling/blob/main/naver_article.ipynb\" target=\"_parent\"><img src=\"https://colab.research.google.com/assets/colab-badge.svg\" alt=\"Open In Colab\"/></a>"
      ]
    },
    {
      "cell_type": "code",
      "metadata": {
        "id": "fnCETdKPfVME"
      },
      "source": [
        "import requests\n",
        "from bs4 import BeautifulSoup\n",
        "import time\n",
        "import re\n",
        "import pandas as pd"
      ],
      "execution_count": 17,
      "outputs": []
    },
    {
      "cell_type": "code",
      "metadata": {
        "id": "l6nk4Rjt2rOV"
      },
      "source": [
        "# user-agent 확인사이트 (http://www.useragentstring.com/)\n",
        "header = {'user-agent':'Mozilla/5.0 (Windows NT 10.0; Win64; x64) AppleWebKit/537.36 (KHTML, like Gecko) Chrome/96.0.4664.45 Safari/537.36'}\n",
        "url = 'https://search.naver.com/search.naver?&where=news&query=%EC%95%84%EB%8F%99%ED%95%99%EB%8C%80&sm=tab_pge&sort=0&photo=0&field=0&reporter_article=&pd=3&ds=2021.01.01&de=2021.01.09&docid=&nso=so:r,p:from20210101to20210109,a:all&mynews=0&cluster_rank=91&start=1&refresh_start=0'\n",
        "response = requests.get(url, headers = header)\n",
        "soup = BeautifulSoup(response.text, 'html.parser')"
      ],
      "execution_count": 2,
      "outputs": []
    },
    {
      "cell_type": "code",
      "metadata": {
        "colab": {
          "base_uri": "https://localhost:8080/"
        },
        "id": "mW6eMd6Z4XGz",
        "outputId": "2b5502d6-442b-413f-f3a9-315ea52db5eb"
      },
      "source": [
        "# 제목 찾기\n",
        "soup.find_all('a', attrs={'class':'news_tit'})"
      ],
      "execution_count": 8,
      "outputs": [
        {
          "output_type": "execute_result",
          "data": {
            "text/plain": [
              "[<a class=\"news_tit\" href=\"http://yna.kr/AKR20210108162400004?did=1195m\" onclick=\"return goOtherCR(this, 'a=nws*h.tit&amp;r=92&amp;i=880000D8_000000000000000012129639&amp;g=001.0012129639&amp;u='+urlencode(this.href));\" target=\"_blank\" title='작년 아동학대 의심사례 신고 이례적 감소…\"실제론 많아\"'>작년 <mark>아동학대</mark> 의심사례 신고 이례적 감소…\"실제론 많아\"</a>,\n",
              " <a class=\"news_tit\" href=\"http://www.busan.com/view/busan/view.php?code=2021010817435745327\" onclick=\"return goOtherCR(this, 'a=nws*h.tit&amp;r=96&amp;i=880000CE_000000000000000001058360&amp;g=082.0001058360&amp;u='+urlencode(this.href));\" target=\"_blank\" title=\"[속보] '정인이법' 국회 본회의 통과…아동학대 신고시 즉각 조사\">[속보] '정인이법' 국회 본회의 통과…<mark>아동학대</mark> 신고시 즉각 조사</a>,\n",
              " <a class=\"news_tit\" href=\"https://www.donga.com/news/article/all/20210109/104840373/1\" onclick=\"return goOtherCR(this, 'a=nws*h.tit&amp;r=101&amp;i=880000A9_000000000000000003331293&amp;g=020.0003331293&amp;u='+urlencode(this.href));\" target=\"_blank\" title=\"아동학대 방지 업무 방해땐 벌금 1500만원→5000만원 상향\"><mark>아동학대</mark> 방지 업무 방해땐 벌금 1500만원→5000만원 상향</a>,\n",
              " <a class=\"news_tit\" href=\"https://news.joins.com/article/olink/23559456\" onclick=\"return goOtherCR(this, 'a=nws*h.tit&amp;r=104&amp;i=880000F2_000000000000000003068183&amp;g=025.0003068183&amp;u='+urlencode(this.href));\" target=\"_blank\" title=\"아동학대 신고땐 즉시 수사...'정인이법' 국회 문턱 넘었다\"><mark>아동학대</mark> 신고땐 즉시 수사...'정인이법' 국회 문턱 넘었다</a>,\n",
              " <a class=\"news_tit\" href=\"http://news.tf.co.kr/read/life/1836366.htm\" onclick=\"return goOtherCR(this, 'a=nws*j.tit&amp;r=109&amp;i=881999s8_000000000000000000061963&amp;g=629.0000061963&amp;u='+urlencode(this.href));\" target=\"_blank\" title=\"[TF초점] 경찰 오자 억울하다 울먹인 '입양아 학대 사망' 부부\">[TF초점] 경찰 오자 억울하다 울먹인 '입양아 <mark>학대</mark> 사망' 부부</a>,\n",
              " <a class=\"news_tit\" href=\"http://yna.kr/AKR20210108091400051?did=1195m\" onclick=\"return goOtherCR(this, 'a=nws*j.tit&amp;r=110&amp;i=880000D8_000000000000000012129667&amp;g=001.0012129667&amp;u='+urlencode(this.href));\" target=\"_blank\" title=\"정인이 사건 대책 봇물에도 아동학대 현장 대응능력은 엉망\">정인이 사건 대책 봇물에도 <mark>아동학대</mark> 현장 대응능력은 엉망</a>,\n",
              " <a class=\"news_tit\" href=\"http://www.yonhapnewstv.co.kr/MYH20210108026300641/?did=1825m\" onclick=\"return goOtherCR(this, 'a=nws*h.tit&amp;r=111&amp;i=08138262_000000000000000000465650&amp;g=422.0000465650&amp;u='+urlencode(this.href));\" target=\"_blank\" title=\"'정인이 방지법' 국회 통과…아동학대 신고 시 즉각 수사\">'정인이 방지법' 국회 통과…<mark>아동학대</mark> 신고 시 즉각 수사</a>,\n",
              " <a class=\"news_tit\" href=\"http://www.newsis.com/view/?id=NISX20210108_0001298871&amp;cID=10803&amp;pID=14000\" onclick=\"return goOtherCR(this, 'a=nws*a.tit&amp;r=113&amp;i=88000127_000000000000000010284726&amp;g=003.0010284726&amp;u='+urlencode(this.href));\" target=\"_blank\" title=\"'사랑의 매는 없다' 안양시, 아동학대 예방 전담부서 신설\">'사랑의 매는 없다' 안양시, <mark>아동학대</mark> 예방 전담부서 신설</a>,\n",
              " <a class=\"news_tit\" href=\"https://news.imaeil.com/Society/2021010819324480368\" onclick=\"return goOtherCR(this, 'a=nws*h.tit&amp;r=115&amp;i=880000C1_000000000000000000681210&amp;g=088.0000681210&amp;u='+urlencode(this.href));\" target=\"_blank\" title=\"부모 '징계권 삭제' 민법 개정안 국회 통과…체벌 금지·아동학대 근절\">부모 '징계권 삭제' 민법 개정안 국회 통과…체벌 금지·<mark>아동학대</mark> 근절</a>,\n",
              " <a class=\"news_tit\" href=\"https://www.news1.kr/articles/?4175578\" onclick=\"return goOtherCR(this, 'a=nws*j.tit&amp;r=117&amp;i=08138263_000000000000000005097382&amp;g=421.0005097382&amp;u='+urlencode(this.href));\" target=\"_blank\" title=\"임시국회 마지막날…여야, 중대재해법·아동학대처벌법 처리(종합)\">임시국회 마지막날…여야, 중대재해법·<mark>아동학대</mark>처벌법 처리(종합)</a>]"
            ]
          },
          "metadata": {},
          "execution_count": 8
        }
      ]
    },
    {
      "cell_type": "code",
      "metadata": {
        "colab": {
          "base_uri": "https://localhost:8080/"
        },
        "id": "tUma2JhB4dxq",
        "outputId": "2830a78d-09d9-4b9f-d65a-cf4c9df92a96"
      },
      "source": [
        "new_title = [title['title'] for title in soup.find_all('a', attrs={'class':'news_tit'})]\n",
        "new_title"
      ],
      "execution_count": 15,
      "outputs": [
        {
          "output_type": "execute_result",
          "data": {
            "text/plain": [
              "['작년 아동학대 의심사례 신고 이례적 감소…\"실제론 많아\"',\n",
              " \"[속보] '정인이법' 국회 본회의 통과…아동학대 신고시 즉각 조사\",\n",
              " '아동학대 방지 업무 방해땐 벌금 1500만원→5000만원 상향',\n",
              " \"아동학대 신고땐 즉시 수사...'정인이법' 국회 문턱 넘었다\",\n",
              " \"[TF초점] 경찰 오자 억울하다 울먹인 '입양아 학대 사망' 부부\",\n",
              " '정인이 사건 대책 봇물에도 아동학대 현장 대응능력은 엉망',\n",
              " \"'정인이 방지법' 국회 통과…아동학대 신고 시 즉각 수사\",\n",
              " \"'사랑의 매는 없다' 안양시, 아동학대 예방 전담부서 신설\",\n",
              " \"부모 '징계권 삭제' 민법 개정안 국회 통과…체벌 금지·아동학대 근절\",\n",
              " '임시국회 마지막날…여야, 중대재해법·아동학대처벌법 처리(종합)']"
            ]
          },
          "metadata": {},
          "execution_count": 15
        }
      ]
    },
    {
      "cell_type": "code",
      "metadata": {
        "colab": {
          "base_uri": "https://localhost:8080/"
        },
        "id": "3uRVSRe75J_2",
        "outputId": "0fb30808-5c36-46f8-e1ff-e255e5e302ef"
      },
      "source": [
        "for title in soup.find_all('a', attrs={'class':'news_tit'}):\n",
        "    print(title['title'])"
      ],
      "execution_count": 3,
      "outputs": [
        {
          "output_type": "stream",
          "name": "stdout",
          "text": [
            "작년 아동학대 의심사례 신고 이례적 감소…\"실제론 많아\"\n",
            "[속보] '정인이법' 국회 본회의 통과…아동학대 신고시 즉각 조사\n",
            "아동학대 방지 업무 방해땐 벌금 1500만원→5000만원 상향\n",
            "아동학대 신고땐 즉시 수사...'정인이법' 국회 문턱 넘었다\n",
            "[TF초점] 경찰 오자 억울하다 울먹인 '입양아 학대 사망' 부부\n",
            "정인이 사건 대책 봇물에도 아동학대 현장 대응능력은 엉망\n",
            "'정인이 방지법' 국회 통과…아동학대 신고 시 즉각 수사\n",
            "'사랑의 매는 없다' 안양시, 아동학대 예방 전담부서 신설\n",
            "부모 '징계권 삭제' 민법 개정안 국회 통과…체벌 금지·아동학대 근절\n",
            "임시국회 마지막날…여야, 중대재해법·아동학대처벌법 처리(종합)\n"
          ]
        }
      ]
    },
    {
      "cell_type": "code",
      "metadata": {
        "colab": {
          "base_uri": "https://localhost:8080/"
        },
        "id": "XgtpiuwU5k87",
        "outputId": "9d349dd7-8bdd-45c0-92fe-fd5fe9b3f35d"
      },
      "source": [
        "for title in soup.find_all('a', attrs={'class':'news_tit'}):\n",
        "    l = []\n",
        "    l.append(title['title'])\n",
        "\n",
        "print(l)"
      ],
      "execution_count": 10,
      "outputs": [
        {
          "output_type": "stream",
          "name": "stdout",
          "text": [
            "['임시국회 마지막날…여야, 중대재해법·아동학대처벌법 처리(종합)']\n"
          ]
        }
      ]
    },
    {
      "cell_type": "code",
      "metadata": {
        "colab": {
          "base_uri": "https://localhost:8080/"
        },
        "id": "8PKaK8O36SU6",
        "outputId": "07bd9099-d128-4c31-da52-eea24e7cbec2"
      },
      "source": [
        "# 기사 주소 찾기\n",
        "[url['href'] for url in soup.find_all('a', attrs={'class':'news_tit'})]"
      ],
      "execution_count": 11,
      "outputs": [
        {
          "output_type": "execute_result",
          "data": {
            "text/plain": [
              "['http://yna.kr/AKR20210108162400004?did=1195m',\n",
              " 'http://www.busan.com/view/busan/view.php?code=2021010817435745327',\n",
              " 'https://www.donga.com/news/article/all/20210109/104840373/1',\n",
              " 'https://news.joins.com/article/olink/23559456',\n",
              " 'http://news.tf.co.kr/read/life/1836366.htm',\n",
              " 'http://yna.kr/AKR20210108091400051?did=1195m',\n",
              " 'http://www.yonhapnewstv.co.kr/MYH20210108026300641/?did=1825m',\n",
              " 'http://www.newsis.com/view/?id=NISX20210108_0001298871&cID=10803&pID=14000',\n",
              " 'https://news.imaeil.com/Society/2021010819324480368',\n",
              " 'https://www.news1.kr/articles/?4175578']"
            ]
          },
          "metadata": {},
          "execution_count": 11
        }
      ]
    },
    {
      "cell_type": "code",
      "metadata": {
        "colab": {
          "base_uri": "https://localhost:8080/"
        },
        "id": "FPadgVUnAhVL",
        "outputId": "1cbd5ac7-2323-4224-81a3-7f6ccf045b49"
      },
      "source": [
        "# 기사 작성일 찾기\n",
        "soup.find_all('span', attrs={'class':'info'})"
      ],
      "execution_count": 12,
      "outputs": [
        {
          "output_type": "execute_result",
          "data": {
            "text/plain": [
              "[<span class=\"info\">2021.01.09.</span>,\n",
              " <span class=\"info\">2021.01.08.</span>,\n",
              " <span class=\"info\"><i class=\"spnew ico_paper\"></i>A5면 1단</span>,\n",
              " <span class=\"info\">2021.01.09.</span>,\n",
              " <span class=\"info\">2021.01.08.</span>,\n",
              " <span class=\"info\">2021.01.09.</span>,\n",
              " <span class=\"info\">2021.01.09.</span>,\n",
              " <span class=\"info\">2021.01.08.</span>,\n",
              " <span class=\"info\">2021.01.08.</span>,\n",
              " <span class=\"info\">2021.01.08.</span>,\n",
              " <span class=\"info\">2021.01.08.</span>]"
            ]
          },
          "metadata": {},
          "execution_count": 12
        }
      ]
    },
    {
      "cell_type": "code",
      "metadata": {
        "colab": {
          "base_uri": "https://localhost:8080/"
        },
        "id": "mof7VMO5Ar9Z",
        "outputId": "55980293-6a03-4e3d-e460-46c3ead847ad"
      },
      "source": [
        "dates = [date.get_text() for date in soup.find_all('span', attrs={'class':'info'})]\n",
        "\n",
        "date_list = []\n",
        "for date in dates:\n",
        "    if re.search(r'\\d+.\\d+.\\d+.', date) != None:\n",
        "        date_list.append(date)\n",
        "\n",
        "date_list"
      ],
      "execution_count": 14,
      "outputs": [
        {
          "output_type": "execute_result",
          "data": {
            "text/plain": [
              "['2021.01.09.',\n",
              " '2021.01.08.',\n",
              " '2021.01.09.',\n",
              " '2021.01.08.',\n",
              " '2021.01.09.',\n",
              " '2021.01.09.',\n",
              " '2021.01.08.',\n",
              " '2021.01.08.',\n",
              " '2021.01.08.',\n",
              " '2021.01.08.']"
            ]
          },
          "metadata": {},
          "execution_count": 14
        }
      ]
    },
    {
      "cell_type": "code",
      "metadata": {
        "colab": {
          "base_uri": "https://localhost:8080/",
          "height": 363
        },
        "id": "g8EwpnLQDXNN",
        "outputId": "eede8ad2-699f-4c5f-b1df-73b078101fb2"
      },
      "source": [
        "df = pd.DataFrame({'date':date_list, 'title':new_title})\n",
        "df"
      ],
      "execution_count": 18,
      "outputs": [
        {
          "output_type": "execute_result",
          "data": {
            "text/html": [
              "<div>\n",
              "<style scoped>\n",
              "    .dataframe tbody tr th:only-of-type {\n",
              "        vertical-align: middle;\n",
              "    }\n",
              "\n",
              "    .dataframe tbody tr th {\n",
              "        vertical-align: top;\n",
              "    }\n",
              "\n",
              "    .dataframe thead th {\n",
              "        text-align: right;\n",
              "    }\n",
              "</style>\n",
              "<table border=\"1\" class=\"dataframe\">\n",
              "  <thead>\n",
              "    <tr style=\"text-align: right;\">\n",
              "      <th></th>\n",
              "      <th>date</th>\n",
              "      <th>title</th>\n",
              "    </tr>\n",
              "  </thead>\n",
              "  <tbody>\n",
              "    <tr>\n",
              "      <th>0</th>\n",
              "      <td>2021.01.09.</td>\n",
              "      <td>작년 아동학대 의심사례 신고 이례적 감소…\"실제론 많아\"</td>\n",
              "    </tr>\n",
              "    <tr>\n",
              "      <th>1</th>\n",
              "      <td>2021.01.08.</td>\n",
              "      <td>[속보] '정인이법' 국회 본회의 통과…아동학대 신고시 즉각 조사</td>\n",
              "    </tr>\n",
              "    <tr>\n",
              "      <th>2</th>\n",
              "      <td>2021.01.09.</td>\n",
              "      <td>아동학대 방지 업무 방해땐 벌금 1500만원→5000만원 상향</td>\n",
              "    </tr>\n",
              "    <tr>\n",
              "      <th>3</th>\n",
              "      <td>2021.01.08.</td>\n",
              "      <td>아동학대 신고땐 즉시 수사...'정인이법' 국회 문턱 넘었다</td>\n",
              "    </tr>\n",
              "    <tr>\n",
              "      <th>4</th>\n",
              "      <td>2021.01.09.</td>\n",
              "      <td>[TF초점] 경찰 오자 억울하다 울먹인 '입양아 학대 사망' 부부</td>\n",
              "    </tr>\n",
              "    <tr>\n",
              "      <th>5</th>\n",
              "      <td>2021.01.09.</td>\n",
              "      <td>정인이 사건 대책 봇물에도 아동학대 현장 대응능력은 엉망</td>\n",
              "    </tr>\n",
              "    <tr>\n",
              "      <th>6</th>\n",
              "      <td>2021.01.08.</td>\n",
              "      <td>'정인이 방지법' 국회 통과…아동학대 신고 시 즉각 수사</td>\n",
              "    </tr>\n",
              "    <tr>\n",
              "      <th>7</th>\n",
              "      <td>2021.01.08.</td>\n",
              "      <td>'사랑의 매는 없다' 안양시, 아동학대 예방 전담부서 신설</td>\n",
              "    </tr>\n",
              "    <tr>\n",
              "      <th>8</th>\n",
              "      <td>2021.01.08.</td>\n",
              "      <td>부모 '징계권 삭제' 민법 개정안 국회 통과…체벌 금지·아동학대 근절</td>\n",
              "    </tr>\n",
              "    <tr>\n",
              "      <th>9</th>\n",
              "      <td>2021.01.08.</td>\n",
              "      <td>임시국회 마지막날…여야, 중대재해법·아동학대처벌법 처리(종합)</td>\n",
              "    </tr>\n",
              "  </tbody>\n",
              "</table>\n",
              "</div>"
            ],
            "text/plain": [
              "          date                                   title\n",
              "0  2021.01.09.         작년 아동학대 의심사례 신고 이례적 감소…\"실제론 많아\"\n",
              "1  2021.01.08.    [속보] '정인이법' 국회 본회의 통과…아동학대 신고시 즉각 조사\n",
              "2  2021.01.09.      아동학대 방지 업무 방해땐 벌금 1500만원→5000만원 상향\n",
              "3  2021.01.08.       아동학대 신고땐 즉시 수사...'정인이법' 국회 문턱 넘었다\n",
              "4  2021.01.09.    [TF초점] 경찰 오자 억울하다 울먹인 '입양아 학대 사망' 부부\n",
              "5  2021.01.09.         정인이 사건 대책 봇물에도 아동학대 현장 대응능력은 엉망\n",
              "6  2021.01.08.         '정인이 방지법' 국회 통과…아동학대 신고 시 즉각 수사\n",
              "7  2021.01.08.        '사랑의 매는 없다' 안양시, 아동학대 예방 전담부서 신설\n",
              "8  2021.01.08.  부모 '징계권 삭제' 민법 개정안 국회 통과…체벌 금지·아동학대 근절\n",
              "9  2021.01.08.      임시국회 마지막날…여야, 중대재해법·아동학대처벌법 처리(종합)"
            ]
          },
          "metadata": {},
          "execution_count": 18
        }
      ]
    },
    {
      "cell_type": "code",
      "metadata": {
        "id": "aQ7Q30XGKrxX"
      },
      "source": [
        ""
      ],
      "execution_count": null,
      "outputs": []
    }
  ]
}